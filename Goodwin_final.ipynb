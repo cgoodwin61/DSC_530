{
 "cells": [
  {
   "cell_type": "markdown",
   "metadata": {},
   "source": [
    "## Introduction\n",
    "\n",
    "On the first Sunday in February each year, millions of Americans gather around their televisions to watch the big game- the Super Bowl. This game seems like an interesting item for analysis, because there are so many facets to it: \n",
    "\n",
    "1) The actual game. One could do an analysis of the teams that are in the game, the final scores, the locations, etc.  \n",
    "\n",
    "2) The halftime show. Every year they make a big deal of who will be performing. One could analyze whether or not these musical guests have an impact on viewership. \n",
    "\n",
    "3) The commercials. Some people watch the game for the commercials. Do these commercials have any impact on the game? Are there perhaps any spurious correlations between commercials and the outcome of the game? \n",
    "4) The gambling aspect. Almost everyone gets a “square” for the game. Are there any squares that are more common than others? \n",
    "\n",
    "I have decided to focus my attention on a couple of key items: evaluating the values of the Super Bowl squares, the overall combined score of the game, the winning scores by themselves, the losing scores by themselves, and the advertising costs."
   ]
  },
  {
   "cell_type": "markdown",
   "metadata": {},
   "source": [
    "## Loading the data\n",
    "\n",
    "We first must start by loading in our data. My data files can be found at the following [link](https://www.kaggle.com/achyutbabu/tv-halftime-shows-and-the-big-game). I will use pandas.read_csv to load our data."
   ]
  },
  {
   "cell_type": "code",
   "execution_count": 3,
   "metadata": {},
   "outputs": [],
   "source": [
    "import pandas\n",
    "import thinkstats2\n",
    "import thinkplot\n",
    "import numpy\n",
    "file_name1 = \"super_bowls.csv\"\n",
    "file_name2 = \"tv.csv\"\n",
    "superbowl = pandas.read_csv(file_name1)\n",
    "tv = pandas.read_csv(file_name2)"
   ]
  },
  {
   "cell_type": "markdown",
   "metadata": {},
   "source": [
    "Now that we have our two data frames, we need to do some combining. I want the TV household ratings, TV ad cost, and the TV network loaded into the superbowl data frame. \n",
    "\n",
    "*Please note that in the TV data frame, there are two records for Super Bowl 1. I will be excluding the first record and just using the CBS broadcast in my analysis.* "
   ]
  },
  {
   "cell_type": "code",
   "execution_count": 4,
   "metadata": {},
   "outputs": [],
   "source": [
    "tv = tv[0:51]\n",
    "superbowl[\"rating_household\"] = tv[\"rating_household\"]\n",
    "superbowl[\"ad_cost\"] = tv[\"ad_cost\"]\n",
    "superbowl[\"network\"] = tv[\"network\"]"
   ]
  },
  {
   "cell_type": "markdown",
   "metadata": {},
   "source": [
    "We now have all of the columns that we need. There is however one more problem: this data frame contains Super Bowls 1-52, and there have been 54. So we will need to append information about the two most recent Super Bowls. As a Bills fan, it pains me to add another New England victory to the mix but I will do so for the betterment of this analysis..."
   ]
  },
  {
   "cell_type": "code",
   "execution_count": 5,
   "metadata": {},
   "outputs": [],
   "source": [
    "sb_53_54 = {'date': [\"2019-02-03\",\"2020-02-02\"], 'super_bowl': [53,54],\"venue\":[\"Mercedes-Benz Stadium\", \"Hard Rock Stadium\"],\n",
    "            \"city\":[\"Atlanta\",\"Miami Gardens\"],\"state\":[\"Georgia\",\"Florida\"],\n",
    "            \"attendance\":[70081,62417],\"team_winner\":[\"New England Patriots\",\"Kansas City Chiefs\"],\n",
    "            \"winning_pts\":[13,31],\"qb_winner_1\":[\"Tom Brady\",\"Patrick Mahomes\"]\n",
    "            ,\"qb_winner_2\":[\"\",\"\"],\"coach_winner\":[\"Bill Belichick\",\"Andy Reid\"],\n",
    "            \"team_loser\":[\"Los Angeles Rams\",\"San Francisco 49ers\"],\"losing_pts\":[3,20],\n",
    "            \"qb_loser_1\":[\"Jared Goff\",\"Jimmy Garoppolo\"],\"qb_loser_2\":[\"\",\"\"],\n",
    "            \"coach_loser\":[\"Sean McVay\",\"Kyle Shanahan\"],\"combined_pts\":[16,51],\n",
    "            \"difference_pts\":[10,11], \"rating_household\":[41.1,41.6],\n",
    "            \"ad_cost\":[5250000,5600000],\"network\":[\"CBS\",\"Fox\"]}\n",
    "sb_53_54_df = pandas.DataFrame(data = sb_53_54)\n",
    "superbowl = superbowl.append(sb_53_54_df)"
   ]
  },
  {
   "cell_type": "markdown",
   "metadata": {},
   "source": [
    "To maintain consistency with our previous data frame, we will sort by Super Bowl number so the most recent Super Bowls jump to the top."
   ]
  },
  {
   "cell_type": "code",
   "execution_count": 6,
   "metadata": {},
   "outputs": [],
   "source": [
    "superbowl = superbowl.sort_values(by=\"super_bowl\",ascending=False)"
   ]
  },
  {
   "cell_type": "markdown",
   "metadata": {},
   "source": [
    "All of the columns and rows are in place, so we can now proceed with our analysis!"
   ]
  },
  {
   "cell_type": "markdown",
   "metadata": {},
   "source": [
    "## Winning Points, Losing Points, and Combined Points\n",
    "\n",
    "Three of our variables are winning points, losing points, and combined points. \n",
    "- Winning points is the number of points scored by the winning team\n",
    "- Losing points is the number of points scored by the losing team\n",
    "- Combined points is the total number of point scored by both teams\n",
    "\n",
    "Let us begin by looking at winning points\n",
    "\n",
    "### Winning Points\n",
    "\n",
    "Winning points are stored in the variable named winning_pts"
   ]
  },
  {
   "cell_type": "code",
   "execution_count": 7,
   "metadata": {},
   "outputs": [
    {
     "name": "stdout",
     "output_type": "stream",
     "text": [
      "Mean of winning points: 30.11111111111111 \n",
      " Variance of winning points: 95.38364779874215 \n",
      " Standard Deviation of winning points: 9.766455232004196 \n",
      " Mode of winning points: 0    27\n",
      "1    31\n",
      "dtype: int64\n"
     ]
    }
   ],
   "source": [
    "mean_winning = superbowl.winning_pts.mean()\n",
    "var_winning = superbowl.winning_pts.var()\n",
    "std_winning = superbowl.winning_pts.std()\n",
    "mode_winning = superbowl.winning_pts.mode()\n",
    "print(\"Mean of winning points:\", mean_winning,\"\\n\",\n",
    "      \"Variance of winning points:\", var_winning,\"\\n\",\n",
    "      \"Standard Deviation of winning points:\", std_winning,\"\\n\",\n",
    "      \"Mode of winning points:\", mode_winning)"
   ]
  },
  {
   "cell_type": "markdown",
   "metadata": {},
   "source": [
    "As we can see, the average winning score is roughly 30 points. Deviations of roughly 9 to 10 points from the mean are common. The most common winning scores are 27 and 31. \n",
    "\n",
    "Let us now generate a histogram of the winning point totals:"
   ]
  },
  {
   "cell_type": "code",
   "execution_count": 8,
   "metadata": {},
   "outputs": [
    {
     "data": {
      "image/png": "[encoded data removed]",
      "text/plain": [
       "<Figure size 432x288 with 1 Axes>"
      ]
     },
     "metadata": {
      "needs_background": "light"
     },
     "output_type": "display_data"
    }
   ],
   "source": [
    "hist_winning = thinkstats2.Hist(superbowl.winning_pts)\n",
    "thinkplot.Hist(hist_winning)\n",
    "thinkplot.Config(xlabel = 'Winning Points',\n",
    "                 ylabel='Frequency')"
   ]
  },
  {
   "cell_type": "markdown",
   "metadata": {},
   "source": [
    "This histogram does not tell us much. Most of the winning scores occur between 25 and 40, which is not surprising as those are good scores to have in a football game. There are some low numbers that have won games, these would be considered outliers. We will keep them in our analysis, but we will dig a little deeper into the low values later in this project. \n",
    "\n",
    "### Losing Points\n",
    "\n",
    "Let us now calculate the summary statistics for the losing scores. This variable is losing_pts in our dataset."
   ]
  },
  {
   "cell_type": "code",
   "execution_count": 9,
   "metadata": {},
   "outputs": [
    {
     "name": "stdout",
     "output_type": "stream",
     "text": [
      "Mean of losing points: 16.203703703703702 \n",
      " Variance of losing points: 54.95772187281624 \n",
      " Standard Deviation of losing points: 7.413347548362767 \n",
      " Mode of losing points: 0    10\n",
      "1    17\n",
      "dtype: int64\n"
     ]
    }
   ],
   "source": [
    "mean_losing = superbowl.losing_pts.mean()\n",
    "var_losing = superbowl.losing_pts.var()\n",
    "std_losing = superbowl.losing_pts.std()\n",
    "mode_losing = superbowl.losing_pts.mode()\n",
    "print(\"Mean of losing points:\", mean_losing,\"\\n\",\n",
    "      \"Variance of losing points:\", var_losing,\"\\n\",\n",
    "      \"Standard Deviation of losing points:\", std_losing,\"\\n\",\n",
    "      \"Mode of losing points:\", mode_losing)"
   ]
  },
  {
   "cell_type": "markdown",
   "metadata": {},
   "source": [
    "The average losing score is roughly 16 points. The spread of these values is less than that of winning points, as you can see from the lower value of variance. You would expect deviations of 7 to 8 points from the mean to be common. The most common losing points values are 10 and 17.\n",
    "\n",
    "Let us now look at a histogram of these values:"
   ]
  },
  {
   "cell_type": "code",
   "execution_count": 10,
   "metadata": {},
   "outputs": [
    {
     "data": {
      "image/png": "[encoded data removed]",
      "text/plain": [
       "<Figure size 432x288 with 1 Axes>"
      ]
     },
     "metadata": {
      "needs_background": "light"
     },
     "output_type": "display_data"
    }
   ],
   "source": [
    "hist_losing = thinkstats2.Hist(superbowl.losing_pts)\n",
    "thinkplot.Hist(hist_losing)\n",
    "thinkplot.Config(xlabel = 'Losing Points',\n",
    "                 ylabel='Frequency')"
   ]
  },
  {
   "cell_type": "markdown",
   "metadata": {},
   "source": [
    "Once again, this is not a very surprising histogram. The values for losing points tend to be lower (hence the team losing the game). There once again are some outliers, aka losing teams who scored a lot of points. We will look into these later in our analysis. \n",
    "\n",
    "### Combined Points\n",
    "Finally in this section we will look at total points scored in these games. This value is found in the variable named combined_pts."
   ]
  },
  {
   "cell_type": "code",
   "execution_count": 11,
   "metadata": {},
   "outputs": [
    {
     "name": "stdout",
     "output_type": "stream",
     "text": [
      "Mean of combined points: 46.31481481481482 \n",
      " Variance of combined points: 194.29524807826698 \n",
      " Standard Deviation of combined points: 13.938983036013315 \n",
      " Mode of combined points: 0    31\n",
      "1    37\n",
      "2    47\n",
      "3    56\n",
      "dtype: int64\n"
     ]
    }
   ],
   "source": [
    "mean_combined = superbowl.combined_pts.mean()\n",
    "var_combined = superbowl.combined_pts.var()\n",
    "std_combined = superbowl.combined_pts.std()\n",
    "mode_combined = superbowl.combined_pts.mode()\n",
    "print(\"Mean of combined points:\", mean_combined,\"\\n\",\n",
    "      \"Variance of combined points:\", var_combined,\"\\n\",\n",
    "      \"Standard Deviation of combined points:\", std_combined,\"\\n\",\n",
    "      \"Mode of combined points:\", mode_combined)"
   ]
  },
  {
   "cell_type": "markdown",
   "metadata": {},
   "source": [
    "The average combined score is roughly 46 points. There is a very large spread for these values, as you can see from the increased variance. One would expect a deviation of 13 to 14 points from the mean to be common. The most common combined scores are 31, 37, 47, and 56.\n",
    "\n",
    "Next, let's look at a histogram of these values:"
   ]
  },
  {
   "cell_type": "code",
   "execution_count": 12,
   "metadata": {},
   "outputs": [
    {
     "data": {
      "image/png": "[encoded data removed]",
      "text/plain": [
       "<Figure size 432x288 with 1 Axes>"
      ]
     },
     "metadata": {
      "needs_background": "light"
     },
     "output_type": "display_data"
    }
   ],
   "source": [
    "hist_combined = thinkstats2.Hist(superbowl.combined_pts)\n",
    "thinkplot.Hist(hist_combined)\n",
    "thinkplot.Config(xlabel = 'Total Points',\n",
    "                 ylabel='Frequency')"
   ]
  },
  {
   "cell_type": "markdown",
   "metadata": {},
   "source": [
    "There is not too much to gain from this histogram either. I think the best bet for total points is to look at a CDF, which we will do later in this report. We can also examine the outliers using the following:"
   ]
  },
  {
   "cell_type": "code",
   "execution_count": 41,
   "metadata": {},
   "outputs": [
    {
     "name": "stdout",
     "output_type": "stream",
     "text": [
      "Maximum Combined Score: 75 \n",
      " Minimum Combined Score 16\n"
     ]
    }
   ],
   "source": [
    "combined_pts = superbowl.combined_pts\n",
    "max_combined = max(combined_pts)\n",
    "min_combined = min(combined_pts)\n",
    "print(\"Maximum Combined Score:\",max_combined,\"\\n\",\"Minimum Combined Score\",min_combined)"
   ]
  },
  {
   "cell_type": "code",
   "execution_count": 42,
   "metadata": {},
   "outputs": [
    {
     "data": {
      "text/html": [
       "<div>\n",
       "<style scoped>\n",
       "    .dataframe tbody tr th:only-of-type {\n",
       "        vertical-align: middle;\n",
       "    }\n",
       "\n",
       "    .dataframe tbody tr th {\n",
       "        vertical-align: top;\n",
       "    }\n",
       "\n",
       "    .dataframe thead th {\n",
       "        text-align: right;\n",
       "    }\n",
       "</style>\n",
       "<table border=\"1\" class=\"dataframe\">\n",
       "  <thead>\n",
       "    <tr style=\"text-align: right;\">\n",
       "      <th></th>\n",
       "      <th>date</th>\n",
       "      <th>super_bowl</th>\n",
       "      <th>venue</th>\n",
       "      <th>city</th>\n",
       "      <th>state</th>\n",
       "      <th>attendance</th>\n",
       "      <th>team_winner</th>\n",
       "      <th>winning_pts</th>\n",
       "      <th>qb_winner_1</th>\n",
       "      <th>qb_winner_2</th>\n",
       "      <th>...</th>\n",
       "      <th>qb_loser_1</th>\n",
       "      <th>qb_loser_2</th>\n",
       "      <th>coach_loser</th>\n",
       "      <th>combined_pts</th>\n",
       "      <th>difference_pts</th>\n",
       "      <th>rating_household</th>\n",
       "      <th>ad_cost</th>\n",
       "      <th>network</th>\n",
       "      <th>winning_pts_2</th>\n",
       "      <th>losing_pts_2</th>\n",
       "    </tr>\n",
       "  </thead>\n",
       "  <tbody>\n",
       "    <tr>\n",
       "      <td>0</td>\n",
       "      <td>2019-02-03</td>\n",
       "      <td>53</td>\n",
       "      <td>Mercedes-Benz Stadium</td>\n",
       "      <td>Atlanta</td>\n",
       "      <td>Georgia</td>\n",
       "      <td>70081</td>\n",
       "      <td>New England Patriots</td>\n",
       "      <td>13</td>\n",
       "      <td>Tom Brady</td>\n",
       "      <td></td>\n",
       "      <td>...</td>\n",
       "      <td>Jared Goff</td>\n",
       "      <td></td>\n",
       "      <td>Sean McVay</td>\n",
       "      <td>16</td>\n",
       "      <td>10</td>\n",
       "      <td>41.1</td>\n",
       "      <td>5250000.0</td>\n",
       "      <td>CBS</td>\n",
       "      <td>3</td>\n",
       "      <td>3</td>\n",
       "    </tr>\n",
       "  </tbody>\n",
       "</table>\n",
       "<p>1 rows × 23 columns</p>\n",
       "</div>"
      ],
      "text/plain": [
       "         date  super_bowl                  venue     city    state  \\\n",
       "0  2019-02-03          53  Mercedes-Benz Stadium  Atlanta  Georgia   \n",
       "\n",
       "   attendance           team_winner  winning_pts qb_winner_1 qb_winner_2  ...  \\\n",
       "0       70081  New England Patriots           13   Tom Brady              ...   \n",
       "\n",
       "   qb_loser_1 qb_loser_2  coach_loser combined_pts difference_pts  \\\n",
       "0  Jared Goff              Sean McVay           16             10   \n",
       "\n",
       "  rating_household    ad_cost  network  winning_pts_2  losing_pts_2  \n",
       "0             41.1  5250000.0      CBS              3             3  \n",
       "\n",
       "[1 rows x 23 columns]"
      ]
     },
     "execution_count": 42,
     "metadata": {},
     "output_type": "execute_result"
    }
   ],
   "source": [
    "superbowl[superbowl.combined_pts == 16]"
   ]
  },
  {
   "cell_type": "code",
   "execution_count": 43,
   "metadata": {},
   "outputs": [
    {
     "data": {
      "text/html": [
       "<div>\n",
       "<style scoped>\n",
       "    .dataframe tbody tr th:only-of-type {\n",
       "        vertical-align: middle;\n",
       "    }\n",
       "\n",
       "    .dataframe tbody tr th {\n",
       "        vertical-align: top;\n",
       "    }\n",
       "\n",
       "    .dataframe thead th {\n",
       "        text-align: right;\n",
       "    }\n",
       "</style>\n",
       "<table border=\"1\" class=\"dataframe\">\n",
       "  <thead>\n",
       "    <tr style=\"text-align: right;\">\n",
       "      <th></th>\n",
       "      <th>date</th>\n",
       "      <th>super_bowl</th>\n",
       "      <th>venue</th>\n",
       "      <th>city</th>\n",
       "      <th>state</th>\n",
       "      <th>attendance</th>\n",
       "      <th>team_winner</th>\n",
       "      <th>winning_pts</th>\n",
       "      <th>qb_winner_1</th>\n",
       "      <th>qb_winner_2</th>\n",
       "      <th>...</th>\n",
       "      <th>qb_loser_1</th>\n",
       "      <th>qb_loser_2</th>\n",
       "      <th>coach_loser</th>\n",
       "      <th>combined_pts</th>\n",
       "      <th>difference_pts</th>\n",
       "      <th>rating_household</th>\n",
       "      <th>ad_cost</th>\n",
       "      <th>network</th>\n",
       "      <th>winning_pts_2</th>\n",
       "      <th>losing_pts_2</th>\n",
       "    </tr>\n",
       "  </thead>\n",
       "  <tbody>\n",
       "    <tr>\n",
       "      <td>23</td>\n",
       "      <td>1995-01-29</td>\n",
       "      <td>29</td>\n",
       "      <td>Joe Robbie Stadium</td>\n",
       "      <td>Miami Gardens</td>\n",
       "      <td>Florida</td>\n",
       "      <td>74107</td>\n",
       "      <td>San Francisco 49ers</td>\n",
       "      <td>49</td>\n",
       "      <td>Steve Young</td>\n",
       "      <td>NaN</td>\n",
       "      <td>...</td>\n",
       "      <td>Stan Humphreys</td>\n",
       "      <td>NaN</td>\n",
       "      <td>Bobby Ross</td>\n",
       "      <td>75</td>\n",
       "      <td>23</td>\n",
       "      <td>41.3</td>\n",
       "      <td>1150000.0</td>\n",
       "      <td>ABC</td>\n",
       "      <td>9</td>\n",
       "      <td>6</td>\n",
       "    </tr>\n",
       "  </tbody>\n",
       "</table>\n",
       "<p>1 rows × 23 columns</p>\n",
       "</div>"
      ],
      "text/plain": [
       "          date  super_bowl               venue           city    state  \\\n",
       "23  1995-01-29          29  Joe Robbie Stadium  Miami Gardens  Florida   \n",
       "\n",
       "    attendance          team_winner  winning_pts  qb_winner_1 qb_winner_2  \\\n",
       "23       74107  San Francisco 49ers           49  Steve Young         NaN   \n",
       "\n",
       "    ...      qb_loser_1 qb_loser_2  coach_loser combined_pts difference_pts  \\\n",
       "23  ...  Stan Humphreys        NaN   Bobby Ross           75             23   \n",
       "\n",
       "   rating_household    ad_cost  network  winning_pts_2  losing_pts_2  \n",
       "23             41.3  1150000.0      ABC              9             6  \n",
       "\n",
       "[1 rows x 23 columns]"
      ]
     },
     "execution_count": 43,
     "metadata": {},
     "output_type": "execute_result"
    }
   ],
   "source": [
    "superbowl[superbowl.combined_pts == 75]"
   ]
  },
  {
   "cell_type": "markdown",
   "metadata": {},
   "source": [
    "## Histogram of Super Bowl Square Values\n",
    "I am sure everyone here has participated in a Super Bowl Squares Pool. Let us look at an example in case anyone is unfamiliar:\n",
    "\n",
    "In Super Bowl 54, the final score was Kansas City (AFC) 31, San Francisco (NFC) 20. In a 10x10 grid, each column and row is represented by a combination of 2 numbers. On one axis we have AFC (for this example lets say the top row), and on the other axis we have the NFC (for this example, the first column). We take the final digit of the scores for the teams (in this case, 1-0), and that is the winning square\n",
    "\n",
    "\n",
    "\n",
    "|   \t| 0 \t| 1 \t| 2 \t| 3 \t| 4 \t| 5 \t| 6 \t| 7 \t| 8 \t| 9 \t|\n",
    "|---\t|---\t|---\t|---\t|---\t|---\t|---\t|---\t|---\t|---\t|---\t|\n",
    "| 0 \t|   \t|WINNER\t|   \t|   \t|   \t|   \t|   \t|   \t|   \t|   \t|  \n",
    "| 1 \t|   \t|   \t|   \t|   \t|   \t|   \t|   \t|   \t|   \t|   \t| \n",
    "| 2 \t|   \t|   \t|   \t|   \t|   \t|   \t|   \t|   \t|   \t|   \t| \n",
    "| 3 \t|   \t|   \t|   \t|   \t|   \t|   \t|   \t|   \t|   \t|   \t| \n",
    "| 4 \t|   \t|   \t|   \t|   \t|   \t|   \t|   \t|   \t|   \t|   \t|\n",
    "| 5 \t|   \t|   \t|   \t|   \t|   \t|   \t|   \t|   \t|   \t|   \t|\n",
    "| 6 \t|   \t|   \t|   \t|   \t|   \t|   \t|   \t|   \t|   \t|   \t|\n",
    "| 7 \t|   \t|   \t|   \t|   \t|   \t|   \t|   \t|   \t|   \t|   \t|\n",
    "| 8 \t|   \t|   \t|   \t|   \t|   \t|   \t|   \t|   \t|   \t|   \t|\n",
    "| 9 \t|   \t|   \t|   \t|   \t|   \t|   \t|   \t|   \t|   \t|   \t|\n",
    "\n",
    "I would like to create a histogram of the individual values that occur in Super Bowl squares. We will need to create new variables in order to accomplish this:"
   ]
  },
  {
   "cell_type": "code",
   "execution_count": 13,
   "metadata": {},
   "outputs": [],
   "source": [
    "superbowl[\"winning_pts_2\"] = superbowl.winning_pts % 10\n",
    "superbowl[\"losing_pts_2\"] = superbowl.losing_pts % 10"
   ]
  },
  {
   "cell_type": "markdown",
   "metadata": {},
   "source": [
    "By using the mod 10 we are able to only include the ones digit of our score. \n",
    "\n",
    "The summary statistics are not very important for our analysis here, since we only have 10 specific options. I will look at mode quickly to determine which values are the most common. After that, we will look at a histogram of just the winning square values:"
   ]
  },
  {
   "cell_type": "code",
   "execution_count": 14,
   "metadata": {},
   "outputs": [
    {
     "name": "stdout",
     "output_type": "stream",
     "text": [
      "Most common winning square: 0    1\n",
      "1    4\n",
      "dtype: int64 \n",
      " Most common losing square: 0    7\n",
      "dtype: int64\n"
     ]
    }
   ],
   "source": [
    "mode_winning_square = superbowl.winning_pts_2.mode()\n",
    "mode_losing_square = superbowl.losing_pts_2.mode()\n",
    "print(\"Most common winning square:\",mode_winning_square,\"\\n\",\n",
    "      \"Most common losing square:\",mode_losing_square)"
   ]
  },
  {
   "cell_type": "code",
   "execution_count": 15,
   "metadata": {},
   "outputs": [
    {
     "data": {
      "image/png": "[encoded data removed]",
      "text/plain": [
       "<Figure size 432x288 with 1 Axes>"
      ]
     },
     "metadata": {
      "needs_background": "light"
     },
     "output_type": "display_data"
    }
   ],
   "source": [
    "hist_winningsquares = thinkstats2.Hist(superbowl.winning_pts_2)\n",
    "thinkplot.Hist(hist_winningsquares)\n",
    "thinkplot.Config(xlabel = 'Winning Square Value',\n",
    "                 ylabel='Frequency')"
   ]
  },
  {
   "cell_type": "markdown",
   "metadata": {},
   "source": [
    "Next we will look at a histogram of just the losing square values:"
   ]
  },
  {
   "cell_type": "code",
   "execution_count": 35,
   "metadata": {},
   "outputs": [
    {
     "data": {
      "image/png": "[encoded data removed]",
      "text/plain": [
       "<Figure size 432x288 with 1 Axes>"
      ]
     },
     "metadata": {
      "needs_background": "light"
     },
     "output_type": "display_data"
    }
   ],
   "source": [
    "hist_losingsquares = thinkstats2.Hist(superbowl.losing_pts_2)\n",
    "thinkplot.Hist(hist_losingsquares)\n",
    "thinkplot.Config(xlabel = 'Losing Square Value',\n",
    "                 ylabel='Frequency')"
   ]
  },
  {
   "cell_type": "markdown",
   "metadata": {},
   "source": [
    "However, I think the best bet would actually be to see a combined histogram, which will give us a good idea of how many total times these numbers were found in a Super Bowl Square."
   ]
  },
  {
   "cell_type": "code",
   "execution_count": 17,
   "metadata": {},
   "outputs": [
    {
     "data": {
      "image/png": "[encoded data removed]",
      "text/plain": [
       "<Figure size 432x288 with 1 Axes>"
      ]
     },
     "metadata": {
      "needs_background": "light"
     },
     "output_type": "display_data"
    }
   ],
   "source": [
    "hist_winning_dict = hist_winningsquares.GetDict()\n",
    "hist_losing_dict = hist_losingsquares.GetDict()\n",
    "\n",
    "def mergeDict(dict1, dict2):\n",
    "   dict3 = {**dict1, **dict2}\n",
    "   for key, value in dict3.items():\n",
    "       if key in dict1 and key in dict2:\n",
    "               dict3[key] = dict1[key] + dict2[key]\n",
    " \n",
    "   return dict3\n",
    "\n",
    "hist_total_dict = mergeDict(hist_winning_dict, hist_losing_dict)\n",
    "\n",
    "hist_totalsquares = thinkstats2.Hist(hist_total_dict)\n",
    "\n",
    "thinkplot.Hist(hist_totalsquares)\n",
    "thinkplot.Config(xlabel = 'Total Square Value',ylabel='Frequency')"
   ]
  },
  {
   "cell_type": "markdown",
   "metadata": {},
   "source": [
    "In explanation of my code: I first created the Hist objects for winning scores only and losing scores only. We then created a function called mergeDict, where we combine the values of these so we have an overall frequency. We then plot these values in a histogram.\n",
    "\n",
    "For those familiar with American Football scores, these results are not very surprising. 0, 1, 4, and 7 are the most common, while 2, 5, and 8 are the least.\n",
    "\n",
    "We can also use Downey's code to create a PMF for this data:"
   ]
  },
  {
   "cell_type": "code",
   "execution_count": 7,
   "metadata": {},
   "outputs": [
    {
     "data": {
      "image/png": "[encoded data removed]",
      "text/plain": [
       "<Figure size 432x288 with 1 Axes>"
      ]
     },
     "metadata": {
      "needs_background": "light"
     },
     "output_type": "display_data"
    }
   ],
   "source": [
    "pmf = thinkstats2.Pmf(hist3)\n",
    "thinkplot.Hist(pmf)\n",
    "thinkplot.Config(xlabel = \"Individual Square Value\",ylabel = \"probability\")"
   ]
  },
  {
   "cell_type": "markdown",
   "metadata": {},
   "source": [
    "This graph converts frequency to a probability. From both graphs, you can see that you should be crossing your fingers to get a 7, and cursing the pool runner if you get a 5!"
   ]
  },
  {
   "cell_type": "markdown",
   "metadata": {},
   "source": [
    "## Advertising Cost\n",
    "\n",
    "Next we will look at a histogram of advertising cost. Let us start again with the summary statistics:"
   ]
  },
  {
   "cell_type": "code",
   "execution_count": 18,
   "metadata": {},
   "outputs": [
    {
     "name": "stdout",
     "output_type": "stream",
     "text": [
      "Mean of ad cost: 1659919.3962264152 \n",
      " Variance of ad cost: 2732508040774.1294 \n",
      " Standard Deviation of ad cost: 1653029.957615448 \n",
      " Mode of ad cost: 0    2200000.0\n",
      "1    5000000.0\n",
      "dtype: float64\n"
     ]
    }
   ],
   "source": [
    "mean_ad = superbowl.ad_cost.mean()\n",
    "var_ad = superbowl.ad_cost.var()\n",
    "std_ad = superbowl.ad_cost.std()\n",
    "mode_ad = superbowl.ad_cost.mode()\n",
    "print(\"Mean of ad cost:\", mean_ad,\"\\n\",\n",
    "      \"Variance of ad cost:\", var_ad,\"\\n\",\n",
    "      \"Standard Deviation of ad cost:\", std_ad,\"\\n\",\n",
    "      \"Mode of ad cost:\", mode_ad)"
   ]
  },
  {
   "cell_type": "markdown",
   "metadata": {},
   "source": [
    "Since the ad costs have changed so dramatically over time, it is hard to really summarize this information. The average Super Bowl ad cost was 1.65 million. Because the values are so wide spread, the variance and standard deviations are very high. The most common ad costs have been 2.2 million and 5 million.\n",
    "\n",
    "I don't think a histogram of this data would be helpful in our analysis. Later we will view a scatter plot of ad cost vs super bowl, and we will dig a little bit deeper into that.\n",
    "\n",
    "### TV Household Rating\n",
    "Next we will examine the household ratings for the games. These values are found in the field rating_household."
   ]
  },
  {
   "cell_type": "code",
   "execution_count": 24,
   "metadata": {},
   "outputs": [
    {
     "name": "stdout",
     "output_type": "stream",
     "text": [
      "Mean of TV rating: 43.483018867924535 \n",
      " Variance of TV rating: 8.911821480406388 \n",
      " Standard Deviation of TV rating: 2.9852674051760233 \n",
      " Mode of TV rating: 0    41.6\n",
      "dtype: float64\n"
     ]
    }
   ],
   "source": [
    "mean_ratings = superbowl.rating_household.mean()\n",
    "var_ratings = superbowl.rating_household.var()\n",
    "std_ratings = superbowl.rating_household.std()\n",
    "mode_ratings = superbowl.rating_household.mode()\n",
    "print(\"Mean of TV rating:\", mean_ratings,\"\\n\",\n",
    "      \"Variance of TV rating:\", var_ratings,\"\\n\",\n",
    "      \"Standard Deviation of TV rating:\", std_ratings,\"\\n\",\n",
    "      \"Mode of TV rating:\", mode_ratings)"
   ]
  },
  {
   "cell_type": "markdown",
   "metadata": {},
   "source": [
    "The average rating for a Super Bowl is roughly 43.5. There is a relatively low spread for these values. Deviations of roughly 3 points from the mean are common. The most common TV rating was 41.6.\n",
    "\n",
    "Let us now look at a histogram of this data:"
   ]
  },
  {
   "cell_type": "code",
   "execution_count": 25,
   "metadata": {},
   "outputs": [
    {
     "data": {
      "image/png": "[encoded data removed]",
      "text/plain": [
       "<Figure size 432x288 with 1 Axes>"
      ]
     },
     "metadata": {
      "needs_background": "light"
     },
     "output_type": "display_data"
    }
   ],
   "source": [
    "hist_rating = thinkstats2.Hist(superbowl.rating_household)\n",
    "\n",
    "thinkplot.Hist(hist_rating)\n",
    "thinkplot.Config(xlabel = 'TV Ratings',ylabel='Frequency')"
   ]
  },
  {
   "cell_type": "markdown",
   "metadata": {},
   "source": [
    "We now want to look at the outliers:"
   ]
  },
  {
   "cell_type": "code",
   "execution_count": 44,
   "metadata": {},
   "outputs": [
    {
     "data": {
      "text/html": [
       "<div>\n",
       "<style scoped>\n",
       "    .dataframe tbody tr th:only-of-type {\n",
       "        vertical-align: middle;\n",
       "    }\n",
       "\n",
       "    .dataframe tbody tr th {\n",
       "        vertical-align: top;\n",
       "    }\n",
       "\n",
       "    .dataframe thead th {\n",
       "        text-align: right;\n",
       "    }\n",
       "</style>\n",
       "<table border=\"1\" class=\"dataframe\">\n",
       "  <thead>\n",
       "    <tr style=\"text-align: right;\">\n",
       "      <th></th>\n",
       "      <th>date</th>\n",
       "      <th>super_bowl</th>\n",
       "      <th>venue</th>\n",
       "      <th>city</th>\n",
       "      <th>state</th>\n",
       "      <th>attendance</th>\n",
       "      <th>team_winner</th>\n",
       "      <th>winning_pts</th>\n",
       "      <th>qb_winner_1</th>\n",
       "      <th>qb_winner_2</th>\n",
       "      <th>...</th>\n",
       "      <th>qb_loser_1</th>\n",
       "      <th>qb_loser_2</th>\n",
       "      <th>coach_loser</th>\n",
       "      <th>combined_pts</th>\n",
       "      <th>difference_pts</th>\n",
       "      <th>rating_household</th>\n",
       "      <th>ad_cost</th>\n",
       "      <th>network</th>\n",
       "      <th>winning_pts_2</th>\n",
       "      <th>losing_pts_2</th>\n",
       "    </tr>\n",
       "  </thead>\n",
       "  <tbody>\n",
       "    <tr>\n",
       "      <td>49</td>\n",
       "      <td>1969-01-12</td>\n",
       "      <td>3</td>\n",
       "      <td>Orange Bowl</td>\n",
       "      <td>Miami</td>\n",
       "      <td>Florida</td>\n",
       "      <td>75389</td>\n",
       "      <td>New York Jets</td>\n",
       "      <td>16</td>\n",
       "      <td>Joe Namath</td>\n",
       "      <td>NaN</td>\n",
       "      <td>...</td>\n",
       "      <td>Earl Morrall</td>\n",
       "      <td>Johnny Unitas</td>\n",
       "      <td>Don Shula</td>\n",
       "      <td>23</td>\n",
       "      <td>9</td>\n",
       "      <td>36.0</td>\n",
       "      <td>55000.0</td>\n",
       "      <td>NBC</td>\n",
       "      <td>6</td>\n",
       "      <td>7</td>\n",
       "    </tr>\n",
       "    <tr>\n",
       "      <td>50</td>\n",
       "      <td>1968-01-14</td>\n",
       "      <td>2</td>\n",
       "      <td>Orange Bowl</td>\n",
       "      <td>Miami</td>\n",
       "      <td>Florida</td>\n",
       "      <td>75546</td>\n",
       "      <td>Green Bay Packers</td>\n",
       "      <td>33</td>\n",
       "      <td>Bart Starr</td>\n",
       "      <td>NaN</td>\n",
       "      <td>...</td>\n",
       "      <td>Daryle Lamonica</td>\n",
       "      <td>NaN</td>\n",
       "      <td>John Rauch</td>\n",
       "      <td>47</td>\n",
       "      <td>19</td>\n",
       "      <td>36.8</td>\n",
       "      <td>54500.0</td>\n",
       "      <td>CBS</td>\n",
       "      <td>3</td>\n",
       "      <td>4</td>\n",
       "    </tr>\n",
       "  </tbody>\n",
       "</table>\n",
       "<p>2 rows × 23 columns</p>\n",
       "</div>"
      ],
      "text/plain": [
       "          date  super_bowl        venue   city    state  attendance  \\\n",
       "49  1969-01-12           3  Orange Bowl  Miami  Florida       75389   \n",
       "50  1968-01-14           2  Orange Bowl  Miami  Florida       75546   \n",
       "\n",
       "          team_winner  winning_pts qb_winner_1 qb_winner_2  ...  \\\n",
       "49      New York Jets           16  Joe Namath         NaN  ...   \n",
       "50  Green Bay Packers           33  Bart Starr         NaN  ...   \n",
       "\n",
       "         qb_loser_1     qb_loser_2  coach_loser combined_pts difference_pts  \\\n",
       "49     Earl Morrall  Johnny Unitas    Don Shula           23              9   \n",
       "50  Daryle Lamonica            NaN   John Rauch           47             19   \n",
       "\n",
       "   rating_household  ad_cost  network  winning_pts_2  losing_pts_2  \n",
       "49             36.0  55000.0      NBC              6             7  \n",
       "50             36.8  54500.0      CBS              3             4  \n",
       "\n",
       "[2 rows x 23 columns]"
      ]
     },
     "execution_count": 44,
     "metadata": {},
     "output_type": "execute_result"
    }
   ],
   "source": [
    "superbowl[superbowl.rating_household < 38]"
   ]
  },
  {
   "cell_type": "code",
   "execution_count": 45,
   "metadata": {},
   "outputs": [
    {
     "data": {
      "text/html": [
       "<div>\n",
       "<style scoped>\n",
       "    .dataframe tbody tr th:only-of-type {\n",
       "        vertical-align: middle;\n",
       "    }\n",
       "\n",
       "    .dataframe tbody tr th {\n",
       "        vertical-align: top;\n",
       "    }\n",
       "\n",
       "    .dataframe thead th {\n",
       "        text-align: right;\n",
       "    }\n",
       "</style>\n",
       "<table border=\"1\" class=\"dataframe\">\n",
       "  <thead>\n",
       "    <tr style=\"text-align: right;\">\n",
       "      <th></th>\n",
       "      <th>date</th>\n",
       "      <th>super_bowl</th>\n",
       "      <th>venue</th>\n",
       "      <th>city</th>\n",
       "      <th>state</th>\n",
       "      <th>attendance</th>\n",
       "      <th>team_winner</th>\n",
       "      <th>winning_pts</th>\n",
       "      <th>qb_winner_1</th>\n",
       "      <th>qb_winner_2</th>\n",
       "      <th>...</th>\n",
       "      <th>qb_loser_1</th>\n",
       "      <th>qb_loser_2</th>\n",
       "      <th>coach_loser</th>\n",
       "      <th>combined_pts</th>\n",
       "      <th>difference_pts</th>\n",
       "      <th>rating_household</th>\n",
       "      <th>ad_cost</th>\n",
       "      <th>network</th>\n",
       "      <th>winning_pts_2</th>\n",
       "      <th>losing_pts_2</th>\n",
       "    </tr>\n",
       "  </thead>\n",
       "  <tbody>\n",
       "    <tr>\n",
       "      <td>32</td>\n",
       "      <td>1986-01-26</td>\n",
       "      <td>20</td>\n",
       "      <td>Louisiana Superdome</td>\n",
       "      <td>New Orleans</td>\n",
       "      <td>Louisiana</td>\n",
       "      <td>73818</td>\n",
       "      <td>Chicago Bears</td>\n",
       "      <td>46</td>\n",
       "      <td>Jim McMahon</td>\n",
       "      <td>NaN</td>\n",
       "      <td>...</td>\n",
       "      <td>Tony Eason</td>\n",
       "      <td>Steve Grogan</td>\n",
       "      <td>Raymond Berry</td>\n",
       "      <td>56</td>\n",
       "      <td>36</td>\n",
       "      <td>48.3</td>\n",
       "      <td>550000.0</td>\n",
       "      <td>NBC</td>\n",
       "      <td>6</td>\n",
       "      <td>0</td>\n",
       "    </tr>\n",
       "    <tr>\n",
       "      <td>35</td>\n",
       "      <td>1983-01-30</td>\n",
       "      <td>17</td>\n",
       "      <td>Rose Bowl</td>\n",
       "      <td>Pasadena</td>\n",
       "      <td>California</td>\n",
       "      <td>103667</td>\n",
       "      <td>Washington Redskins</td>\n",
       "      <td>27</td>\n",
       "      <td>Joe Theismann</td>\n",
       "      <td>NaN</td>\n",
       "      <td>...</td>\n",
       "      <td>David Woodley</td>\n",
       "      <td>NaN</td>\n",
       "      <td>Don Shula</td>\n",
       "      <td>44</td>\n",
       "      <td>10</td>\n",
       "      <td>48.6</td>\n",
       "      <td>400000.0</td>\n",
       "      <td>NBC</td>\n",
       "      <td>7</td>\n",
       "      <td>7</td>\n",
       "    </tr>\n",
       "    <tr>\n",
       "      <td>36</td>\n",
       "      <td>1982-01-24</td>\n",
       "      <td>16</td>\n",
       "      <td>Pontiac Silverdome</td>\n",
       "      <td>Pontiac</td>\n",
       "      <td>Michigan</td>\n",
       "      <td>81270</td>\n",
       "      <td>San Francisco 49ers</td>\n",
       "      <td>26</td>\n",
       "      <td>Joe Montana</td>\n",
       "      <td>NaN</td>\n",
       "      <td>...</td>\n",
       "      <td>Ken Anderson</td>\n",
       "      <td>NaN</td>\n",
       "      <td>Forrest Gregg</td>\n",
       "      <td>47</td>\n",
       "      <td>5</td>\n",
       "      <td>49.1</td>\n",
       "      <td>324300.0</td>\n",
       "      <td>CBS</td>\n",
       "      <td>6</td>\n",
       "      <td>1</td>\n",
       "    </tr>\n",
       "  </tbody>\n",
       "</table>\n",
       "<p>3 rows × 23 columns</p>\n",
       "</div>"
      ],
      "text/plain": [
       "          date  super_bowl                venue         city       state  \\\n",
       "32  1986-01-26          20  Louisiana Superdome  New Orleans   Louisiana   \n",
       "35  1983-01-30          17            Rose Bowl     Pasadena  California   \n",
       "36  1982-01-24          16   Pontiac Silverdome      Pontiac    Michigan   \n",
       "\n",
       "    attendance          team_winner  winning_pts    qb_winner_1 qb_winner_2  \\\n",
       "32       73818        Chicago Bears           46    Jim McMahon         NaN   \n",
       "35      103667  Washington Redskins           27  Joe Theismann         NaN   \n",
       "36       81270  San Francisco 49ers           26    Joe Montana         NaN   \n",
       "\n",
       "    ...     qb_loser_1    qb_loser_2    coach_loser combined_pts  \\\n",
       "32  ...     Tony Eason  Steve Grogan  Raymond Berry           56   \n",
       "35  ...  David Woodley           NaN      Don Shula           44   \n",
       "36  ...   Ken Anderson           NaN  Forrest Gregg           47   \n",
       "\n",
       "   difference_pts rating_household   ad_cost  network  winning_pts_2  \\\n",
       "32             36             48.3  550000.0      NBC              6   \n",
       "35             10             48.6  400000.0      NBC              7   \n",
       "36              5             49.1  324300.0      CBS              6   \n",
       "\n",
       "    losing_pts_2  \n",
       "32             0  \n",
       "35             7  \n",
       "36             1  \n",
       "\n",
       "[3 rows x 23 columns]"
      ]
     },
     "execution_count": 45,
     "metadata": {},
     "output_type": "execute_result"
    }
   ],
   "source": [
    "superbowl[superbowl.rating_household > 48]"
   ]
  },
  {
   "cell_type": "markdown",
   "metadata": {},
   "source": [
    "## PMFs and CDFS of Winning Scores and Losing Scores\n",
    "\n",
    "We will now do some analysis of the winning and losing scores. We will first look at a PMF of both values"
   ]
  },
  {
   "cell_type": "code",
   "execution_count": 36,
   "metadata": {},
   "outputs": [],
   "source": [
    "winning_pts = superbowl.winning_pts\n",
    "losing_pts = superbowl.losing_pts\n",
    "winning_pmf = thinkstats2.Pmf(winning_pts, label = \"Winning\")\n",
    "losing_pmf = thinkstats2.Pmf(losing_pts, label = \"Losing\")"
   ]
  },
  {
   "cell_type": "code",
   "execution_count": 37,
   "metadata": {},
   "outputs": [
    {
     "data": {
      "image/png": "[encoded data removed]",
      "text/plain": [
       "<Figure size 432x288 with 1 Axes>"
      ]
     },
     "metadata": {
      "needs_background": "light"
     },
     "output_type": "display_data"
    },
    {
     "data": {
      "text/plain": [
       "<Figure size 576x432 with 0 Axes>"
      ]
     },
     "metadata": {},
     "output_type": "display_data"
    }
   ],
   "source": [
    "thinkplot.Pmfs([winning_pmf, losing_pmf])\n",
    "thinkplot.Show(xlabel = 'Points Scored',\n",
    "               ylabel = 'Probability')"
   ]
  },
  {
   "cell_type": "markdown",
   "metadata": {},
   "source": [
    "Not very surprisingly, these graphs are very different. The low values have very high probabilities for teams that lose, and the high numbers have high probabilities for teams that win. \n",
    "\n",
    "Let us look at CDFs to get another view of this:"
   ]
  },
  {
   "cell_type": "code",
   "execution_count": 44,
   "metadata": {},
   "outputs": [
    {
     "data": {
      "image/png": "[encoded data removed]",
      "text/plain": [
       "<Figure size 432x288 with 1 Axes>"
      ]
     },
     "metadata": {
      "needs_background": "light"
     },
     "output_type": "display_data"
    }
   ],
   "source": [
    "winning_cdf = thinkstats2.Cdf(winning_pts,label=\"Winning Points\")\n",
    "losing_cdf = thinkstats2.Cdf(losing_pts,label=\"Losing Points\")\n",
    "thinkplot.Cdfs([winning_cdf,losing_cdf])\n",
    "thinkplot.Config(xlabel = \"Points Scored\", ylabel = \"CDF\")"
   ]
  },
  {
   "cell_type": "markdown",
   "metadata": {},
   "source": [
    "These plots are not really very surprising. The losing CDF has lower values, as a lower score results in a lower chance of winning. Almost 2/3 of the losing teams in Super Bowls scored fewer than 17 points. Meanwhile for winning teams, only half of them scored less than 30. What I take from this is that there are not many low scoring games in Super Bowl history. If you win, chances are you scored a lot of points. \n",
    "\n",
    "These plots have me thinking though, who scored the most points of all of the losing teams, and who scored the fewest amongst the winning teams. Let us run some code to get the points values."
   ]
  },
  {
   "cell_type": "code",
   "execution_count": 45,
   "metadata": {},
   "outputs": [
    {
     "name": "stdout",
     "output_type": "stream",
     "text": [
      "Maximum Losing Score: 33 \n",
      " Minimum Winning Score 13\n"
     ]
    }
   ],
   "source": [
    "max_losing = max(losing_pts)\n",
    "min_winning = min(winning_pts)\n",
    "print(\"Maximum Losing Score:\",max_losing,\"\\n\",\"Minimum Winning Score\",min_winning)"
   ]
  },
  {
   "cell_type": "markdown",
   "metadata": {},
   "source": [
    "Now that we have these values, I will use some code to find the game in which they happened. "
   ]
  },
  {
   "cell_type": "code",
   "execution_count": 46,
   "metadata": {},
   "outputs": [
    {
     "data": {
      "text/plain": [
       "0    52\n",
       "Name: super_bowl, dtype: int64"
      ]
     },
     "execution_count": 46,
     "metadata": {},
     "output_type": "execute_result"
    }
   ],
   "source": [
    "superbowl_max_losing = superbowl[superbowl.losing_pts == 33].super_bowl\n",
    "superbowl_max_losing"
   ]
  },
  {
   "cell_type": "markdown",
   "metadata": {},
   "source": [
    "As we see from this query, we are looking at Super Bowl 52. Let's look to see who played and what the outcome was."
   ]
  },
  {
   "cell_type": "code",
   "execution_count": 47,
   "metadata": {},
   "outputs": [
    {
     "data": {
      "text/html": [
       "<div>\n",
       "<style scoped>\n",
       "    .dataframe tbody tr th:only-of-type {\n",
       "        vertical-align: middle;\n",
       "    }\n",
       "\n",
       "    .dataframe tbody tr th {\n",
       "        vertical-align: top;\n",
       "    }\n",
       "\n",
       "    .dataframe thead th {\n",
       "        text-align: right;\n",
       "    }\n",
       "</style>\n",
       "<table border=\"1\" class=\"dataframe\">\n",
       "  <thead>\n",
       "    <tr style=\"text-align: right;\">\n",
       "      <th></th>\n",
       "      <th>date</th>\n",
       "      <th>super_bowl</th>\n",
       "      <th>venue</th>\n",
       "      <th>city</th>\n",
       "      <th>state</th>\n",
       "      <th>attendance</th>\n",
       "      <th>team_winner</th>\n",
       "      <th>winning_pts</th>\n",
       "      <th>qb_winner_1</th>\n",
       "      <th>qb_winner_2</th>\n",
       "      <th>...</th>\n",
       "      <th>qb_loser_1</th>\n",
       "      <th>qb_loser_2</th>\n",
       "      <th>coach_loser</th>\n",
       "      <th>combined_pts</th>\n",
       "      <th>difference_pts</th>\n",
       "      <th>rating_household</th>\n",
       "      <th>ad_cost</th>\n",
       "      <th>network</th>\n",
       "      <th>winning_pts_2</th>\n",
       "      <th>losing_pts_2</th>\n",
       "    </tr>\n",
       "  </thead>\n",
       "  <tbody>\n",
       "    <tr>\n",
       "      <td>0</td>\n",
       "      <td>2018-02-04</td>\n",
       "      <td>52</td>\n",
       "      <td>U.S. Bank Stadium</td>\n",
       "      <td>Minneapolis</td>\n",
       "      <td>Minnesota</td>\n",
       "      <td>67612</td>\n",
       "      <td>Philadelphia Eagles</td>\n",
       "      <td>41</td>\n",
       "      <td>Nick Foles</td>\n",
       "      <td>NaN</td>\n",
       "      <td>...</td>\n",
       "      <td>Tom Brady</td>\n",
       "      <td>NaN</td>\n",
       "      <td>Bill Belichick</td>\n",
       "      <td>74</td>\n",
       "      <td>8</td>\n",
       "      <td>43.1</td>\n",
       "      <td>5000000.0</td>\n",
       "      <td>NBC</td>\n",
       "      <td>1</td>\n",
       "      <td>3</td>\n",
       "    </tr>\n",
       "  </tbody>\n",
       "</table>\n",
       "<p>1 rows × 23 columns</p>\n",
       "</div>"
      ],
      "text/plain": [
       "         date  super_bowl              venue         city      state  \\\n",
       "0  2018-02-04          52  U.S. Bank Stadium  Minneapolis  Minnesota   \n",
       "\n",
       "   attendance          team_winner  winning_pts qb_winner_1 qb_winner_2  ...  \\\n",
       "0       67612  Philadelphia Eagles           41  Nick Foles         NaN  ...   \n",
       "\n",
       "  qb_loser_1 qb_loser_2     coach_loser combined_pts difference_pts  \\\n",
       "0  Tom Brady        NaN  Bill Belichick           74              8   \n",
       "\n",
       "  rating_household    ad_cost  network  winning_pts_2  losing_pts_2  \n",
       "0             43.1  5000000.0      NBC              1             3  \n",
       "\n",
       "[1 rows x 23 columns]"
      ]
     },
     "execution_count": 47,
     "metadata": {},
     "output_type": "execute_result"
    }
   ],
   "source": [
    "superbowl[superbowl.super_bowl == 52]"
   ]
  },
  {
   "cell_type": "markdown",
   "metadata": {},
   "source": [
    "Ahh yes, Patriots vs Eagles. One of my favorites. The Eagles were able to defeat the Patriots, despite the Patriots offense scoring 33 points. I will forever be grateful to Nick Foles for his performance in this one!\n",
    "\n",
    "Let us know look into the lowest scoring winner. "
   ]
  },
  {
   "cell_type": "code",
   "execution_count": 48,
   "metadata": {},
   "outputs": [
    {
     "data": {
      "text/plain": [
       "0    53\n",
       "Name: super_bowl, dtype: int64"
      ]
     },
     "execution_count": 48,
     "metadata": {},
     "output_type": "execute_result"
    }
   ],
   "source": [
    "super_bowl_min_winning = superbowl[superbowl.winning_pts == 13].super_bowl\n",
    "super_bowl_min_winning"
   ]
  },
  {
   "cell_type": "markdown",
   "metadata": {},
   "source": [
    "We see from the above query that this was Super Bowl 53. Let us once again check to see what the outcome was."
   ]
  },
  {
   "cell_type": "code",
   "execution_count": 49,
   "metadata": {},
   "outputs": [
    {
     "data": {
      "text/html": [
       "<div>\n",
       "<style scoped>\n",
       "    .dataframe tbody tr th:only-of-type {\n",
       "        vertical-align: middle;\n",
       "    }\n",
       "\n",
       "    .dataframe tbody tr th {\n",
       "        vertical-align: top;\n",
       "    }\n",
       "\n",
       "    .dataframe thead th {\n",
       "        text-align: right;\n",
       "    }\n",
       "</style>\n",
       "<table border=\"1\" class=\"dataframe\">\n",
       "  <thead>\n",
       "    <tr style=\"text-align: right;\">\n",
       "      <th></th>\n",
       "      <th>date</th>\n",
       "      <th>super_bowl</th>\n",
       "      <th>venue</th>\n",
       "      <th>city</th>\n",
       "      <th>state</th>\n",
       "      <th>attendance</th>\n",
       "      <th>team_winner</th>\n",
       "      <th>winning_pts</th>\n",
       "      <th>qb_winner_1</th>\n",
       "      <th>qb_winner_2</th>\n",
       "      <th>...</th>\n",
       "      <th>qb_loser_1</th>\n",
       "      <th>qb_loser_2</th>\n",
       "      <th>coach_loser</th>\n",
       "      <th>combined_pts</th>\n",
       "      <th>difference_pts</th>\n",
       "      <th>rating_household</th>\n",
       "      <th>ad_cost</th>\n",
       "      <th>network</th>\n",
       "      <th>winning_pts_2</th>\n",
       "      <th>losing_pts_2</th>\n",
       "    </tr>\n",
       "  </thead>\n",
       "  <tbody>\n",
       "    <tr>\n",
       "      <td>0</td>\n",
       "      <td>2019-02-03</td>\n",
       "      <td>53</td>\n",
       "      <td>Mercedes-Benz Stadium</td>\n",
       "      <td>Atlanta</td>\n",
       "      <td>Georgia</td>\n",
       "      <td>70081</td>\n",
       "      <td>New England Patriots</td>\n",
       "      <td>13</td>\n",
       "      <td>Tom Brady</td>\n",
       "      <td></td>\n",
       "      <td>...</td>\n",
       "      <td>Jared Goff</td>\n",
       "      <td></td>\n",
       "      <td>Sean McVay</td>\n",
       "      <td>16</td>\n",
       "      <td>10</td>\n",
       "      <td>41.1</td>\n",
       "      <td>5250000.0</td>\n",
       "      <td>CBS</td>\n",
       "      <td>3</td>\n",
       "      <td>3</td>\n",
       "    </tr>\n",
       "  </tbody>\n",
       "</table>\n",
       "<p>1 rows × 23 columns</p>\n",
       "</div>"
      ],
      "text/plain": [
       "         date  super_bowl                  venue     city    state  \\\n",
       "0  2019-02-03          53  Mercedes-Benz Stadium  Atlanta  Georgia   \n",
       "\n",
       "   attendance           team_winner  winning_pts qb_winner_1 qb_winner_2  ...  \\\n",
       "0       70081  New England Patriots           13   Tom Brady              ...   \n",
       "\n",
       "   qb_loser_1 qb_loser_2  coach_loser combined_pts difference_pts  \\\n",
       "0  Jared Goff              Sean McVay           16             10   \n",
       "\n",
       "  rating_household    ad_cost  network  winning_pts_2  losing_pts_2  \n",
       "0             41.1  5250000.0      CBS              3             3  \n",
       "\n",
       "[1 rows x 23 columns]"
      ]
     },
     "execution_count": 49,
     "metadata": {},
     "output_type": "execute_result"
    }
   ],
   "source": [
    "superbowl[superbowl.super_bowl == 53]"
   ]
  },
  {
   "cell_type": "markdown",
   "metadata": {},
   "source": [
    "We once again see our beloved Patriots make an appearance. This time their luck shifted, as they were able to defeat the Rams while only scoring 13 points. \n",
    "\n",
    "## CDF of combined points\n",
    "\n",
    "The last CDF I want to generate is that of combined points. Sports betting is a growing industry, and one of the more common things to bet on is the over/under for the game. Will the final combined score be greater than or equal to x. We can use a CDF to determine the probability of a score going under. "
   ]
  },
  {
   "cell_type": "code",
   "execution_count": 16,
   "metadata": {},
   "outputs": [
    {
     "data": {
      "image/png": "[encoded data removed]",
      "text/plain": [
       "<Figure size 432x288 with 1 Axes>"
      ]
     },
     "metadata": {
      "needs_background": "light"
     },
     "output_type": "display_data"
    }
   ],
   "source": [
    "combined_pts = superbowl.combined_pts\n",
    "combined_cdf = thinkstats2.Cdf(combined_pts)\n",
    "thinkplot.Cdf(combined_cdf)\n",
    "thinkplot.Config(xlabel = \"Combined Points Scored\", ylabel = \"CDF\")"
   ]
  },
  {
   "cell_type": "markdown",
   "metadata": {},
   "source": [
    "If we look at this CDF, 50% of the Super Bowls have had less than 46 combined points scored. After a quick Google search, due to the high-powered Kansas City offense, the over/under for Super Bowl 54 was actually set at 54 points. Let us look into the CDF value for this over/under:"
   ]
  },
  {
   "cell_type": "code",
   "execution_count": 17,
   "metadata": {},
   "outputs": [
    {
     "data": {
      "text/plain": [
       "0.7222222222222222"
      ]
     },
     "execution_count": 17,
     "metadata": {},
     "output_type": "execute_result"
    }
   ],
   "source": [
    "combined_cdf[54]"
   ]
  },
  {
   "cell_type": "markdown",
   "metadata": {},
   "source": [
    "This specific value has hit the under in 72% of Super Bowls in history. If you were to base your bets off past trends, you may have considered betting the under here. The final score of the game ended up being 31-20, so the under bet did hit.\n",
    "\n",
    "## Hypothesis Test\n",
    "I have a hypothesis that the scoring has increased over the history of the Super Bowl. In order to test this, we will test a difference in means of the first 27 Super Bowls versus the last 27 Super Bowls. Let's prepare our data:"
   ]
  },
  {
   "cell_type": "code",
   "execution_count": 33,
   "metadata": {},
   "outputs": [],
   "source": [
    "class HypothesisTest(object):\n",
    "\n",
    "    def __init__(self, data):\n",
    "        self.data = data\n",
    "        self.MakeModel()\n",
    "        self.actual = self.TestStatistic(data)\n",
    "\n",
    "    def PValue(self, iters=1000):\n",
    "        self.test_stats = [self.TestStatistic(self.RunModel()) \n",
    "                           for _ in range(iters)]\n",
    "\n",
    "        count = sum(1 for x in self.test_stats if x >= self.actual)\n",
    "        return count / iters\n",
    "\n",
    "    def TestStatistic(self, data):\n",
    "        raise UnimplementedMethodException()\n",
    "\n",
    "    def MakeModel(self):\n",
    "        pass\n",
    "\n",
    "    def RunModel(self):\n",
    "        raise UnimplementedMethodException()\n",
    "\n",
    "class DiffMeansPermute(HypothesisTest):\n",
    "\n",
    "    def TestStatistic(self, data):\n",
    "        group1, group2 = data\n",
    "        test_stat = abs(group1.mean() - group2.mean())\n",
    "        return test_stat\n",
    "\n",
    "    def MakeModel(self):\n",
    "        group1, group2 = self.data\n",
    "        self.n, self.m = len(group1), len(group2)\n",
    "        self.pool = numpy.hstack((group1, group2))\n",
    "\n",
    "    def RunModel(self):\n",
    "        numpy.random.shuffle(self.pool)\n",
    "        data = self.pool[:self.n], self.pool[self.n:]\n",
    "        return data"
   ]
  },
  {
   "cell_type": "code",
   "execution_count": 34,
   "metadata": {},
   "outputs": [
    {
     "name": "stdout",
     "output_type": "stream",
     "text": [
      "p-value = 0.176\n"
     ]
    }
   ],
   "source": [
    "first_27 = superbowl[superbowl.super_bowl <= 27].combined_pts\n",
    "last_27 = superbowl[superbowl.super_bowl > 27].combined_pts\n",
    "data = first_27, last_27\n",
    "ht = DiffMeansPermute(data)\n",
    "pvalue = ht.PValue()\n",
    "print(\"p-value =\",pvalue)"
   ]
  },
  {
   "cell_type": "markdown",
   "metadata": {},
   "source": [
    "The resulting p-value is 0.176, which means that we expect to see a difference as big as the observed effect about 17.6% of the time. This effect is not statistically significant. There has not been a significant difference in combined score in the most recent Super Bowls vs the earlier ones. \n",
    "\n",
    "Let us also look at a PMF comparison for these values."
   ]
  },
  {
   "cell_type": "code",
   "execution_count": 39,
   "metadata": {},
   "outputs": [
    {
     "data": {
      "image/png": "[encoded data removed]",
      "text/plain": [
       "<Figure size 432x288 with 1 Axes>"
      ]
     },
     "metadata": {
      "needs_background": "light"
     },
     "output_type": "display_data"
    },
    {
     "data": {
      "text/plain": [
       "<Figure size 576x432 with 0 Axes>"
      ]
     },
     "metadata": {},
     "output_type": "display_data"
    }
   ],
   "source": [
    "first27_pmf = thinkstats2.Pmf(first_27, label = \"First 27 Super Bowls\")\n",
    "last27_pmf = thinkstats2.Pmf(last_27, label = \"Last 27 Super Bowls\")\n",
    "thinkplot.Pmfs([first27_pmf, last27_pmf])\n",
    "thinkplot.Show(xlabel = 'Points Scored',\n",
    "               ylabel = 'Probability')"
   ]
  },
  {
   "cell_type": "markdown",
   "metadata": {},
   "source": [
    "## Distribution of Advertising Costs\n",
    "\n",
    "I now want to look at the evolution of advertising price over the course of the Super Bowl. We will first look at a simple scatter plot of this data:\n",
    "\n",
    "*Please note, I will be excluding Super Bowl 1 because there is no advertising cost information for this game*"
   ]
  },
  {
   "cell_type": "code",
   "execution_count": 47,
   "metadata": {},
   "outputs": [
    {
     "data": {
      "image/png": "[encoded data removed]",
      "text/plain": [
       "<Figure size 432x288 with 1 Axes>"
      ]
     },
     "metadata": {
      "needs_background": "light"
     },
     "output_type": "display_data"
    },
    {
     "data": {
      "text/plain": [
       "<Figure size 576x432 with 0 Axes>"
      ]
     },
     "metadata": {},
     "output_type": "display_data"
    }
   ],
   "source": [
    "df = superbowl[superbowl.super_bowl > 1]\n",
    "sbdf = df.super_bowl\n",
    "acdf = df.ad_cost\n",
    "\n",
    "thinkplot.Scatter(sbdf, acdf)\n",
    "thinkplot.Show(xlabel = 'Super Bowl Number',\n",
    "               ylabel = 'Advertisting Cost ($)')"
   ]
  },
  {
   "cell_type": "markdown",
   "metadata": {},
   "source": [
    "This definitely appears to be an exponential distribution. One way to examine whether or not this distribution is exponential is to examine both the CDF and the complementary CDF (CCDF)."
   ]
  },
  {
   "cell_type": "code",
   "execution_count": 48,
   "metadata": {},
   "outputs": [
    {
     "data": {
      "image/png": "[encoded data removed]",
      "text/plain": [
       "<Figure size 432x288 with 1 Axes>"
      ]
     },
     "metadata": {
      "needs_background": "light"
     },
     "output_type": "display_data"
    },
    {
     "data": {
      "text/plain": [
       "<Figure size 576x432 with 0 Axes>"
      ]
     },
     "metadata": {},
     "output_type": "display_data"
    }
   ],
   "source": [
    "cdf_ad = thinkstats2.Cdf(acdf)\n",
    "thinkplot.Cdf(cdf_ad)\n",
    "thinkplot.Show(xlabel = 'Dollars', ylabel = 'CDF')"
   ]
  },
  {
   "cell_type": "code",
   "execution_count": 49,
   "metadata": {},
   "outputs": [
    {
     "data": {
      "image/png": "[encoded data removed]",
      "text/plain": [
       "<Figure size 432x288 with 1 Axes>"
      ]
     },
     "metadata": {
      "needs_background": "light"
     },
     "output_type": "display_data"
    },
    {
     "data": {
      "text/plain": [
       "<Figure size 576x432 with 0 Axes>"
      ]
     },
     "metadata": {},
     "output_type": "display_data"
    }
   ],
   "source": [
    "thinkplot.Cdf(cdf_ad, complement = True)\n",
    "thinkplot.Show(xlabel = 'Dollars', ylabel = 'CCDF',yscale='log')"
   ]
  },
  {
   "cell_type": "markdown",
   "metadata": {},
   "source": [
    "If we look at our textbook, the CDF definitely resembles that of an exponential distribution. The CCDF for an exponential distribution is supposed to be a straight line. While the CCDF is not perfectly straight, it would definitely be reasonable to model this data using an exponential distribution. "
   ]
  },
  {
   "cell_type": "markdown",
   "metadata": {},
   "source": [
    "Another way to examine this would be to look at a scatter plot of log values. "
   ]
  },
  {
   "cell_type": "code",
   "execution_count": 20,
   "metadata": {},
   "outputs": [
    {
     "name": "stderr",
     "output_type": "stream",
     "text": [
      "C:\\Users\\goodw\\Anaconda3\\lib\\site-packages\\ipykernel_launcher.py:3: SettingWithCopyWarning: \n",
      "A value is trying to be set on a copy of a slice from a DataFrame.\n",
      "Try using .loc[row_indexer,col_indexer] = value instead\n",
      "\n",
      "See the caveats in the documentation: http://pandas.pydata.org/pandas-docs/stable/user_guide/indexing.html#returning-a-view-versus-a-copy\n",
      "  This is separate from the ipykernel package so we can avoid doing imports until\n"
     ]
    },
    {
     "data": {
      "image/png": "[encoded data removed]",
      "text/plain": [
       "<Figure size 432x288 with 1 Axes>"
      ]
     },
     "metadata": {
      "needs_background": "light"
     },
     "output_type": "display_data"
    },
    {
     "data": {
      "text/plain": [
       "<Figure size 576x432 with 0 Axes>"
      ]
     },
     "metadata": {},
     "output_type": "display_data"
    }
   ],
   "source": [
    "import numpy\n",
    "\n",
    "df[\"ad_cost_log\"] = numpy.log(df.ad_cost)\n",
    "acldf = df.ad_cost_log\n",
    "thinkplot.Scatter(sbdf, acldf)\n",
    "thinkplot.Show(xlabel = 'Super Bowl Number',\n",
    "               ylabel = 'log Advertisting Cost ($)')"
   ]
  },
  {
   "cell_type": "markdown",
   "metadata": {},
   "source": [
    "This graph being linear would back up my theory that the relationship between the two variables is exponential. Let us create a best fit with this data:"
   ]
  },
  {
   "cell_type": "code",
   "execution_count": 21,
   "metadata": {},
   "outputs": [],
   "source": [
    "inter, slope = thinkstats2.LeastSquares(sbdf, acldf)\n",
    "fit_xs, fit_ys = thinkstats2.FitLine(sbdf, inter, slope)"
   ]
  },
  {
   "cell_type": "code",
   "execution_count": 22,
   "metadata": {
    "scrolled": true
   },
   "outputs": [
    {
     "data": {
      "image/png": "[encoded data removed]",
      "text/plain": [
       "<Figure size 432x288 with 1 Axes>"
      ]
     },
     "metadata": {
      "needs_background": "light"
     },
     "output_type": "display_data"
    }
   ],
   "source": [
    "thinkplot.Scatter(sbdf, acldf, color='blue')\n",
    "thinkplot.Plot(fit_xs, fit_ys, color='white', linewidth=3)\n",
    "thinkplot.Plot(fit_xs, fit_ys, color='red', linewidth=2)\n",
    "thinkplot.Config(xlabel=\"Super Bowl Number\",\n",
    "                 ylabel='log Ad Cost($)',\n",
    "                 legend=False)"
   ]
  },
  {
   "cell_type": "code",
   "execution_count": 23,
   "metadata": {},
   "outputs": [
    {
     "data": {
      "text/plain": [
       "0.9688346192982593"
      ]
     },
     "execution_count": 23,
     "metadata": {},
     "output_type": "execute_result"
    }
   ],
   "source": [
    "res = thinkstats2.Residuals(sbdf, acldf, inter, slope)\n",
    "CoD = thinkstats2.CoefDetermination(acldf, res)\n",
    "CoD"
   ]
  },
  {
   "cell_type": "markdown",
   "metadata": {},
   "source": [
    "This coefficient of determination is incredibly high (almost 0.97). This measures the goodness of fit of this linear model. This would indicate that there is a very strong linear relationship between these variables."
   ]
  },
  {
   "cell_type": "markdown",
   "metadata": {},
   "source": [
    "## TV rating versus Combined Points\n",
    "\n",
    "I would now like to view a scatter plot of these two variables. I would think that a game with a lot of points would lead to an increase in viewers, but we shall have to see:"
   ]
  },
  {
   "cell_type": "code",
   "execution_count": 50,
   "metadata": {},
   "outputs": [
    {
     "data": {
      "image/png": "[encoded data removed]",
      "text/plain": [
       "<Figure size 432x288 with 1 Axes>"
      ]
     },
     "metadata": {
      "needs_background": "light"
     },
     "output_type": "display_data"
    },
    {
     "data": {
      "text/plain": [
       "<Figure size 576x432 with 0 Axes>"
      ]
     },
     "metadata": {},
     "output_type": "display_data"
    }
   ],
   "source": [
    "tv_rating = superbowl.rating_household\n",
    "combined_pts = superbowl.combined_pts\n",
    "thinkplot.Scatter(combined_pts, tv_rating)\n",
    "thinkplot.Show(xlabel = 'Number of points',\n",
    "               ylabel = 'Household TV Rating')"
   ]
  },
  {
   "cell_type": "markdown",
   "metadata": {},
   "source": [
    "There does not seem to be a strong linear relationship between these two variables. However, let's perform a linear regression analysis to see exactly:"
   ]
  },
  {
   "cell_type": "code",
   "execution_count": 52,
   "metadata": {},
   "outputs": [
    {
     "name": "stdout",
     "output_type": "stream",
     "text": [
      "                            OLS Regression Results                            \n",
      "==============================================================================\n",
      "Dep. Variable:       rating_household   R-squared:                       0.040\n",
      "Model:                            OLS   Adj. R-squared:                  0.021\n",
      "Method:                 Least Squares   F-statistic:                     2.108\n",
      "Date:                Thu, 27 Feb 2020   Prob (F-statistic):              0.153\n",
      "Time:                        17:09:01   Log-Likelihood:                -131.59\n",
      "No. Observations:                  53   AIC:                             267.2\n",
      "Df Residuals:                      51   BIC:                             271.1\n",
      "Df Model:                           1                                         \n",
      "Covariance Type:            nonrobust                                         \n",
      "================================================================================\n",
      "                   coef    std err          t      P>|t|      [0.025      0.975]\n",
      "--------------------------------------------------------------------------------\n",
      "Intercept       41.5242      1.409     29.476      0.000      38.696      44.352\n",
      "combined_pts     0.0423      0.029      1.452      0.153      -0.016       0.101\n",
      "==============================================================================\n",
      "Omnibus:                        1.084   Durbin-Watson:                   0.768\n",
      "Prob(Omnibus):                  0.582   Jarque-Bera (JB):                1.081\n",
      "Skew:                          -0.216   Prob(JB):                        0.582\n",
      "Kurtosis:                       2.450   Cond. No.                         168.\n",
      "==============================================================================\n",
      "\n",
      "Warnings:\n",
      "[1] Standard Errors assume that the covariance matrix of the errors is correctly specified.\n"
     ]
    }
   ],
   "source": [
    "import statsmodels.formula.api as smf\n",
    "formula = 'rating_household ~ combined_pts'\n",
    "model = smf.ols(formula, data=superbowl)\n",
    "results = model.fit()\n",
    "print(results.summary())"
   ]
  },
  {
   "cell_type": "markdown",
   "metadata": {},
   "source": [
    "As you can see from the very low values of R-squared and the F-statistic, there is not a very good linear relationship between these two variables. One may assume that points don't have a real affect on viewership. While I think that may be true for the Super Bowl, that also has a lot to do with the fact that Super Bowls have high ratings regardless. They don't need any boost. If this was for all football games, I think we would see a stronger relationship here.  "
   ]
  },
  {
   "cell_type": "code",
   "execution_count": null,
   "metadata": {},
   "outputs": [],
   "source": []
  }
 ],
 "metadata": {
  "kernelspec": {
   "display_name": "Python 3",
   "language": "python",
   "name": "python3"
  },
  "language_info": {
   "codemirror_mode": {
    "name": "ipython",
    "version": 3
   },
   "file_extension": ".py",
   "mimetype": "text/x-python",
   "name": "python",
   "nbconvert_exporter": "python",
   "pygments_lexer": "ipython3",
   "version": "3.7.4"
  }
 },
 "nbformat": 4,
 "nbformat_minor": 2
}
